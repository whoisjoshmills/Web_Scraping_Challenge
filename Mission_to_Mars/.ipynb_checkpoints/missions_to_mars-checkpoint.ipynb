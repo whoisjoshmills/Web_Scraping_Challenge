{
 "cells": [
  {
   "cell_type": "markdown",
   "metadata": {},
   "source": [
    "# Homework 10 Web Scraping + MongoDB"
   ]
  },
  {
   "cell_type": "code",
   "execution_count": 1,
   "metadata": {},
   "outputs": [],
   "source": [
    "# Dependencies\n",
    "import requests\n",
    "from splinter import Browser\n",
    "from bs4 import BeautifulSoup as bs\n",
    "from webdriver_manager.chrome import ChromeDriverManager\n",
    "import pandas as pd"
   ]
  },
  {
   "cell_type": "markdown",
   "metadata": {},
   "source": [
    "## NASA Mars News"
   ]
  },
  {
   "cell_type": "code",
   "execution_count": 2,
   "metadata": {
    "scrolled": true
   },
   "outputs": [
    {
     "name": "stderr",
     "output_type": "stream",
     "text": [
      "\n",
      "\n",
      "====== WebDriver manager ======\n",
      "Current google-chrome version is 91.0.4472\n",
      "Get LATEST driver version for 91.0.4472\n",
      "Driver [C:\\Users\\niraj\\.wdm\\drivers\\chromedriver\\win32\\91.0.4472.101\\chromedriver.exe] found in cache\n"
     ]
    },
    {
     "name": "stdout",
     "output_type": "stream",
     "text": [
      "NASA's Mars Perseverance Rover Passes Flight Readiness Review\n",
      "​The agency's Mars 2020 mission has one more big prelaunch review – the Launch Readiness Review, on July 27.\n"
     ]
    }
   ],
   "source": [
    "# Setup splinter\n",
    "executable_path = {'executable_path': ChromeDriverManager().install()}\n",
    "browser = Browser('chrome', **executable_path, headless=False)\n",
    "\n",
    "# Define and vist html\n",
    "url = \"https://redplanetscience.com/\"\n",
    "browser.visit(url)\n",
    "\n",
    "# Parse\n",
    "html = browser.html\n",
    "soup = bs(html, 'html.parser')\n",
    "\n",
    "# Capture first news title\n",
    "titles = soup.find_all('div', class_ = \"content_title\")\n",
    "news_title = titles[0].text\n",
    "\n",
    "#Capture news title paragraph\n",
    "paragraphs = soup.find_all('div', class_= \"article_teaser_body\")\n",
    "news_p = paragraphs[0].text\n",
    "\n",
    "# Quit browser\n",
    "browser.quit()\n",
    "\n",
    "# Print news title and news article\n",
    "print(news_title)\n",
    "print(news_p)"
   ]
  },
  {
   "cell_type": "markdown",
   "metadata": {},
   "source": [
    "## JPL Mars Space Images - Featured Image"
   ]
  },
  {
   "cell_type": "code",
   "execution_count": 3,
   "metadata": {
    "scrolled": true
   },
   "outputs": [
    {
     "name": "stderr",
     "output_type": "stream",
     "text": [
      "\n",
      "\n",
      "====== WebDriver manager ======\n",
      "Current google-chrome version is 91.0.4472\n",
      "Get LATEST driver version for 91.0.4472\n",
      "Driver [C:\\Users\\niraj\\.wdm\\drivers\\chromedriver\\win32\\91.0.4472.101\\chromedriver.exe] found in cache\n"
     ]
    },
    {
     "name": "stdout",
     "output_type": "stream",
     "text": [
      "https://spaceimages-mars.com/image/featured/mars1.jpg\n"
     ]
    }
   ],
   "source": [
    "# Setup splinter\n",
    "executable_path = {'executable_path': ChromeDriverManager().install()}\n",
    "browser = Browser('chrome', **executable_path, headless=False)\n",
    "\n",
    "# Define and vist html\n",
    "url = \"https://spaceimages-mars.com/\"\n",
    "browser.visit(url)\n",
    "\n",
    "# Parse\n",
    "html = browser.html\n",
    "soup = bs(html, 'html.parser')\n",
    "\n",
    "# Find source path\n",
    "img = soup.find('img', class_='headerimage')\n",
    "source = img['src']\n",
    "\n",
    "# Combine html and source to get url of image file\n",
    "featured_image_url = f'{url}{source}'\n",
    "\n",
    "# Quit browser\n",
    "browser.quit()\n",
    "\n",
    "# Print image url\n",
    "print(featured_image_url)"
   ]
  },
  {
   "cell_type": "markdown",
   "metadata": {},
   "source": [
    "## Mars Facts"
   ]
  },
  {
   "cell_type": "code",
   "execution_count": 91,
   "metadata": {},
   "outputs": [
    {
     "ename": "NameError",
     "evalue": "name 'df' is not defined",
     "output_type": "error",
     "traceback": [
      "\u001b[1;31m---------------------------------------------------------------------------\u001b[0m",
      "\u001b[1;31mNameError\u001b[0m                                 Traceback (most recent call last)",
      "\u001b[1;32m<ipython-input-91-ceb4d3cbe617>\u001b[0m in \u001b[0;36m<module>\u001b[1;34m\u001b[0m\n\u001b[0;32m     33\u001b[0m \u001b[1;33m\u001b[0m\u001b[0m\n\u001b[0;32m     34\u001b[0m \u001b[1;31m# Save table\u001b[0m\u001b[1;33m\u001b[0m\u001b[1;33m\u001b[0m\u001b[1;33m\u001b[0m\u001b[0m\n\u001b[1;32m---> 35\u001b[1;33m \u001b[0mdf\u001b[0m\u001b[1;33m.\u001b[0m\u001b[0mto_html\u001b[0m\u001b[1;33m(\u001b[0m\u001b[1;34m'comparison.html'\u001b[0m\u001b[1;33m)\u001b[0m\u001b[1;33m\u001b[0m\u001b[1;33m\u001b[0m\u001b[0m\n\u001b[0m",
      "\u001b[1;31mNameError\u001b[0m: name 'df' is not defined"
     ]
    }
   ],
   "source": [
    "# Define url\n",
    "url = \"https://galaxyfacts-mars.com/\"\n",
    "\n",
    "# Read url into tables\n",
    "tables = pd.read_html(url)\n",
    "mars_df = tables[0]\n",
    "\n",
    "# Clean DataFrame\n",
    "# Create new row to add to top of dataframe\n",
    "new_row = pd.DataFrame({0:\"Description\", 1:\"\", 2:\"\"}, index=[0])\n",
    "\n",
    "# Concat new row to mars_df\n",
    "mars_df = pd.concat([new_row, mars_df])\n",
    "\n",
    "# Extract first column and save for index\n",
    "index_series = mars_df.loc[:,0].tolist()\n",
    "\n",
    "# Rename column headers\n",
    "mars_df = mars_df.rename(columns={1:\"Mars\",2:\"Earth\"})\n",
    "\n",
    "# Set index first column\n",
    "mars_df = mars_df.set_index(0)\n",
    "\n",
    "# Rename column headers\n",
    "mars_df.index.name = None\n",
    "\n",
    "\n",
    "# Render to html\n",
    "mars_html = mars_df.to_html()\n",
    "\n",
    "# Eliminate \\n\n",
    "mars_html = mars_html.replace('\\n', '')\n",
    "\n",
    "# Save table\n",
    "mars_df.to_html('comparison.html')"
   ]
  },
  {
   "cell_type": "markdown",
   "metadata": {},
   "source": [
    "## Mars Hemispheres"
   ]
  },
  {
   "cell_type": "code",
   "execution_count": 12,
   "metadata": {
    "scrolled": false
   },
   "outputs": [
    {
     "name": "stderr",
     "output_type": "stream",
     "text": [
      "\n",
      "\n",
      "====== WebDriver manager ======\n",
      "Current google-chrome version is 91.0.4472\n",
      "Get LATEST driver version for 91.0.4472\n",
      "Driver [C:\\Users\\niraj\\.wdm\\drivers\\chromedriver\\win32\\91.0.4472.101\\chromedriver.exe] found in cache\n"
     ]
    }
   ],
   "source": [
    "# Setup splinter\n",
    "executable_path = {'executable_path': ChromeDriverManager().install()}\n",
    "browser = Browser('chrome', **executable_path, headless=False)\n",
    "\n",
    "# Define and vist html\n",
    "url = \"https://marshemispheres.com/\"\n",
    "browser.visit(url)\n",
    "\n",
    "# Parse\n",
    "html = browser.html\n",
    "soup = bs(html, 'html.parser')\n",
    "\n",
    "# Create blank list of products\n",
    "products_lst = []\n",
    "\n",
    "# Find h3 tags\n",
    "products = soup.find('div', class_='collapsible results')\n",
    "h3 = products.find_all('h3')\n",
    "\n",
    "# Append h3 text to products list\n",
    "for item in h3:\n",
    "    products_lst.append(item.text)\n",
    "products_lst\n",
    "\n",
    "\n",
    "# Create list of urls we will need to add to original url and visit\n",
    "url_lst = []\n",
    "\n",
    "# Condense text to code we need\n",
    "url_text = products.find_all('a')\n",
    "\n",
    "# Iterate through to click into final page\n",
    "for products in products_lst:\n",
    "    \n",
    "    # Parse\n",
    "    html = browser.html\n",
    "    soup = bs(html, 'html.parser')\n",
    "    \n",
    "    # Click html link to visit different page\n",
    "    browser.links.find_by_partial_text(products).click()\n",
    "    \n",
    "    # Parse second layer\n",
    "    html = browser.html\n",
    "    soup = bs(html, 'html.parser')\n",
    "    \n",
    "    # Find link tag\n",
    "    lis = soup.find('li')\n",
    "    href = lis.find('a')['href']\n",
    "    new_url = f'{url}{href}'\n",
    "    \n",
    "    # Append new url to list\n",
    "    url_lst.append(new_url)\n",
    "    \n",
    "    browser.visit(url)\n",
    "   \n",
    "# Create dictionary of title and image url\n",
    "hemisphere_image_urls = []\n",
    "\n",
    "# Add hemisphere and image link to dictionary\n",
    "for x in range(0,len(products_lst)):\n",
    "    my_dict = {'title': products_lst[x], 'img_url': url_lst[x]}\n",
    "    hemisphere_image_urls.append(my_dict)\n",
    "\n",
    "#print(hemisphere_image_urls)\n",
    "\n",
    "browser.quit()"
   ]
  }
 ],
 "metadata": {
  "kernelspec": {
   "display_name": "Python [conda env:PythonData] *",
   "language": "python",
   "name": "conda-env-PythonData-py"
  },
  "language_info": {
   "codemirror_mode": {
    "name": "ipython",
    "version": 3
   },
   "file_extension": ".py",
   "mimetype": "text/x-python",
   "name": "python",
   "nbconvert_exporter": "python",
   "pygments_lexer": "ipython3",
   "version": "3.6.10"
  }
 },
 "nbformat": 4,
 "nbformat_minor": 4
}
